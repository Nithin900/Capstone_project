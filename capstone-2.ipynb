{
 "cells": [
  {
   "cell_type": "code",
   "execution_count": 23,
   "metadata": {},
   "outputs": [],
   "source": [
    "import pandas as pd\n",
    "import numpy as np"
   ]
  },
  {
   "cell_type": "code",
   "execution_count": 4,
   "metadata": {},
   "outputs": [
    {
     "data": {
      "text/html": [
       "<div>\n",
       "<style scoped>\n",
       "    .dataframe tbody tr th:only-of-type {\n",
       "        vertical-align: middle;\n",
       "    }\n",
       "\n",
       "    .dataframe tbody tr th {\n",
       "        vertical-align: top;\n",
       "    }\n",
       "\n",
       "    .dataframe thead th {\n",
       "        text-align: right;\n",
       "    }\n",
       "</style>\n",
       "<table border=\"1\" class=\"dataframe\">\n",
       "  <thead>\n",
       "    <tr style=\"text-align: right;\">\n",
       "      <th></th>\n",
       "      <th>Facility ID</th>\n",
       "      <th>Facility Name</th>\n",
       "      <th>Address</th>\n",
       "      <th>City/Town</th>\n",
       "      <th>State</th>\n",
       "      <th>ZIP Code</th>\n",
       "      <th>County/Parish</th>\n",
       "      <th>Telephone Number</th>\n",
       "      <th>Payment Measure ID</th>\n",
       "      <th>Payment Measure Name</th>\n",
       "      <th>...</th>\n",
       "      <th>Payment</th>\n",
       "      <th>Lower Estimate</th>\n",
       "      <th>Higher Estimate</th>\n",
       "      <th>Payment Footnote</th>\n",
       "      <th>Value of Care Display ID</th>\n",
       "      <th>Value of Care Display Name</th>\n",
       "      <th>Value of Care Category</th>\n",
       "      <th>Value of Care Footnote</th>\n",
       "      <th>Start Date</th>\n",
       "      <th>End Date</th>\n",
       "    </tr>\n",
       "  </thead>\n",
       "  <tbody>\n",
       "    <tr>\n",
       "      <th>0</th>\n",
       "      <td>10001</td>\n",
       "      <td>SOUTHEAST HEALTH MEDICAL CENTER</td>\n",
       "      <td>1108 ROSS CLARK CIRCLE</td>\n",
       "      <td>DOTHAN</td>\n",
       "      <td>AL</td>\n",
       "      <td>36301</td>\n",
       "      <td>HOUSTON</td>\n",
       "      <td>(334) 793-8701</td>\n",
       "      <td>PAYM_30_AMI</td>\n",
       "      <td>Payment for heart attack patients</td>\n",
       "      <td>...</td>\n",
       "      <td>$28,502</td>\n",
       "      <td>$26,229</td>\n",
       "      <td>$30,939</td>\n",
       "      <td>NaN</td>\n",
       "      <td>MORT_PAYM_30_AMI</td>\n",
       "      <td>Value of Care Heart Attack measure</td>\n",
       "      <td>Average Mortality and Average Payment</td>\n",
       "      <td>NaN</td>\n",
       "      <td>07/01/2020</td>\n",
       "      <td>06/30/2023</td>\n",
       "    </tr>\n",
       "    <tr>\n",
       "      <th>1</th>\n",
       "      <td>10001</td>\n",
       "      <td>SOUTHEAST HEALTH MEDICAL CENTER</td>\n",
       "      <td>1108 ROSS CLARK CIRCLE</td>\n",
       "      <td>DOTHAN</td>\n",
       "      <td>AL</td>\n",
       "      <td>36301</td>\n",
       "      <td>HOUSTON</td>\n",
       "      <td>(334) 793-8701</td>\n",
       "      <td>PAYM_30_HF</td>\n",
       "      <td>Payment for heart failure patients</td>\n",
       "      <td>...</td>\n",
       "      <td>$20,602</td>\n",
       "      <td>$19,572</td>\n",
       "      <td>$21,713</td>\n",
       "      <td>NaN</td>\n",
       "      <td>MORT_PAYM_30_HF</td>\n",
       "      <td>Value of Care Heart Failure measur</td>\n",
       "      <td>Average Mortality and Average Payment</td>\n",
       "      <td>NaN</td>\n",
       "      <td>07/01/2020</td>\n",
       "      <td>06/30/2023</td>\n",
       "    </tr>\n",
       "    <tr>\n",
       "      <th>2</th>\n",
       "      <td>10001</td>\n",
       "      <td>SOUTHEAST HEALTH MEDICAL CENTER</td>\n",
       "      <td>1108 ROSS CLARK CIRCLE</td>\n",
       "      <td>DOTHAN</td>\n",
       "      <td>AL</td>\n",
       "      <td>36301</td>\n",
       "      <td>HOUSTON</td>\n",
       "      <td>(334) 793-8701</td>\n",
       "      <td>PAYM_30_PN</td>\n",
       "      <td>Payment for pneumonia patients</td>\n",
       "      <td>...</td>\n",
       "      <td>$22,404</td>\n",
       "      <td>$21,247</td>\n",
       "      <td>$23,627</td>\n",
       "      <td>NaN</td>\n",
       "      <td>MORT_PAYM_30_PN</td>\n",
       "      <td>Value of Care Pneumonia measure</td>\n",
       "      <td>Average Mortality and Higher Payment</td>\n",
       "      <td>NaN</td>\n",
       "      <td>07/01/2020</td>\n",
       "      <td>06/30/2023</td>\n",
       "    </tr>\n",
       "    <tr>\n",
       "      <th>3</th>\n",
       "      <td>10001</td>\n",
       "      <td>SOUTHEAST HEALTH MEDICAL CENTER</td>\n",
       "      <td>1108 ROSS CLARK CIRCLE</td>\n",
       "      <td>DOTHAN</td>\n",
       "      <td>AL</td>\n",
       "      <td>36301</td>\n",
       "      <td>HOUSTON</td>\n",
       "      <td>(334) 793-8701</td>\n",
       "      <td>PAYM_90_HIP_KNEE</td>\n",
       "      <td>Payment for hip/knee replacement patients</td>\n",
       "      <td>...</td>\n",
       "      <td>$22,819</td>\n",
       "      <td>$20,082</td>\n",
       "      <td>$26,007</td>\n",
       "      <td>NaN</td>\n",
       "      <td>COMP_PAYM_90_HIP_KNEE</td>\n",
       "      <td>Value of Care hip/knee replacement</td>\n",
       "      <td>Average Complications and Average Payment</td>\n",
       "      <td>NaN</td>\n",
       "      <td>07/01/2020</td>\n",
       "      <td>03/31/2023</td>\n",
       "    </tr>\n",
       "    <tr>\n",
       "      <th>4</th>\n",
       "      <td>10005</td>\n",
       "      <td>MARSHALL MEDICAL CENTERS</td>\n",
       "      <td>2505 U S HIGHWAY 431 NORTH</td>\n",
       "      <td>BOAZ</td>\n",
       "      <td>AL</td>\n",
       "      <td>35957</td>\n",
       "      <td>MARSHALL</td>\n",
       "      <td>(256) 593-8310</td>\n",
       "      <td>PAYM_30_AMI</td>\n",
       "      <td>Payment for heart attack patients</td>\n",
       "      <td>...</td>\n",
       "      <td>$26,561</td>\n",
       "      <td>$22,721</td>\n",
       "      <td>$30,858</td>\n",
       "      <td>NaN</td>\n",
       "      <td>MORT_PAYM_30_AMI</td>\n",
       "      <td>Value of Care Heart Attack measure</td>\n",
       "      <td>Average Mortality and Average Payment</td>\n",
       "      <td>NaN</td>\n",
       "      <td>07/01/2020</td>\n",
       "      <td>06/30/2023</td>\n",
       "    </tr>\n",
       "  </tbody>\n",
       "</table>\n",
       "<p>5 rows × 22 columns</p>\n",
       "</div>"
      ],
      "text/plain": [
       "   Facility ID                    Facility Name                     Address  \\\n",
       "0        10001  SOUTHEAST HEALTH MEDICAL CENTER      1108 ROSS CLARK CIRCLE   \n",
       "1        10001  SOUTHEAST HEALTH MEDICAL CENTER      1108 ROSS CLARK CIRCLE   \n",
       "2        10001  SOUTHEAST HEALTH MEDICAL CENTER      1108 ROSS CLARK CIRCLE   \n",
       "3        10001  SOUTHEAST HEALTH MEDICAL CENTER      1108 ROSS CLARK CIRCLE   \n",
       "4        10005         MARSHALL MEDICAL CENTERS  2505 U S HIGHWAY 431 NORTH   \n",
       "\n",
       "  City/Town State  ZIP Code County/Parish Telephone Number Payment Measure ID  \\\n",
       "0    DOTHAN    AL     36301       HOUSTON   (334) 793-8701        PAYM_30_AMI   \n",
       "1    DOTHAN    AL     36301       HOUSTON   (334) 793-8701         PAYM_30_HF   \n",
       "2    DOTHAN    AL     36301       HOUSTON   (334) 793-8701         PAYM_30_PN   \n",
       "3    DOTHAN    AL     36301       HOUSTON   (334) 793-8701   PAYM_90_HIP_KNEE   \n",
       "4      BOAZ    AL     35957      MARSHALL   (256) 593-8310        PAYM_30_AMI   \n",
       "\n",
       "                        Payment Measure Name  ...  Payment Lower Estimate  \\\n",
       "0          Payment for heart attack patients  ...  $28,502        $26,229   \n",
       "1         Payment for heart failure patients  ...  $20,602        $19,572   \n",
       "2             Payment for pneumonia patients  ...  $22,404        $21,247   \n",
       "3  Payment for hip/knee replacement patients  ...  $22,819        $20,082   \n",
       "4          Payment for heart attack patients  ...  $26,561        $22,721   \n",
       "\n",
       "  Higher Estimate Payment Footnote Value of Care Display ID  \\\n",
       "0         $30,939              NaN         MORT_PAYM_30_AMI   \n",
       "1         $21,713              NaN          MORT_PAYM_30_HF   \n",
       "2         $23,627              NaN          MORT_PAYM_30_PN   \n",
       "3         $26,007              NaN    COMP_PAYM_90_HIP_KNEE   \n",
       "4         $30,858              NaN         MORT_PAYM_30_AMI   \n",
       "\n",
       "           Value of Care Display Name  \\\n",
       "0  Value of Care Heart Attack measure   \n",
       "1  Value of Care Heart Failure measur   \n",
       "2     Value of Care Pneumonia measure   \n",
       "3  Value of Care hip/knee replacement   \n",
       "4  Value of Care Heart Attack measure   \n",
       "\n",
       "                      Value of Care Category Value of Care Footnote  \\\n",
       "0      Average Mortality and Average Payment                    NaN   \n",
       "1      Average Mortality and Average Payment                    NaN   \n",
       "2       Average Mortality and Higher Payment                    NaN   \n",
       "3  Average Complications and Average Payment                    NaN   \n",
       "4      Average Mortality and Average Payment                    NaN   \n",
       "\n",
       "   Start Date    End Date  \n",
       "0  07/01/2020  06/30/2023  \n",
       "1  07/01/2020  06/30/2023  \n",
       "2  07/01/2020  06/30/2023  \n",
       "3  07/01/2020  03/31/2023  \n",
       "4  07/01/2020  06/30/2023  \n",
       "\n",
       "[5 rows x 22 columns]"
      ]
     },
     "execution_count": 4,
     "metadata": {},
     "output_type": "execute_result"
    }
   ],
   "source": [
    "pv_care_hos=pd.read_csv(r\"/workspaces/Capstone_project/Payment_and_Value_of_Care-Hospital.csv\")\n",
    "pv_care_hos.head()"
   ]
  },
  {
   "cell_type": "code",
   "execution_count": 5,
   "metadata": {},
   "outputs": [
    {
     "data": {
      "text/plain": [
       "Index(['Facility ID', 'Facility Name', 'Address', 'City/Town', 'State',\n",
       "       'ZIP Code', 'County/Parish', 'Telephone Number', 'Payment Measure ID',\n",
       "       'Payment Measure Name', 'Payment Category', 'Denominator', 'Payment',\n",
       "       'Lower Estimate', 'Higher Estimate', 'Payment Footnote',\n",
       "       'Value of Care Display ID', 'Value of Care Display Name',\n",
       "       'Value of Care Category', 'Value of Care Footnote', 'Start Date',\n",
       "       'End Date'],\n",
       "      dtype='object')"
      ]
     },
     "execution_count": 5,
     "metadata": {},
     "output_type": "execute_result"
    }
   ],
   "source": [
    "pv_care_hos.columns"
   ]
  },
  {
   "cell_type": "code",
   "execution_count": 6,
   "metadata": {},
   "outputs": [
    {
     "name": "stdout",
     "output_type": "stream",
     "text": [
      "<class 'pandas.core.frame.DataFrame'>\n",
      "RangeIndex: 18500 entries, 0 to 18499\n",
      "Data columns (total 22 columns):\n",
      " #   Column                      Non-Null Count  Dtype  \n",
      "---  ------                      --------------  -----  \n",
      " 0   Facility ID                 18500 non-null  int64  \n",
      " 1   Facility Name               18500 non-null  object \n",
      " 2   Address                     18500 non-null  object \n",
      " 3   City/Town                   18500 non-null  object \n",
      " 4   State                       18500 non-null  object \n",
      " 5   ZIP Code                    18500 non-null  int64  \n",
      " 6   County/Parish               18500 non-null  object \n",
      " 7   Telephone Number            18500 non-null  object \n",
      " 8   Payment Measure ID          18500 non-null  object \n",
      " 9   Payment Measure Name        18500 non-null  object \n",
      " 10  Payment Category            18500 non-null  object \n",
      " 11  Denominator                 18500 non-null  object \n",
      " 12  Payment                     18500 non-null  object \n",
      " 13  Lower Estimate              18500 non-null  object \n",
      " 14  Higher Estimate             18500 non-null  object \n",
      " 15  Payment Footnote            8612 non-null   object \n",
      " 16  Value of Care Display ID    18500 non-null  object \n",
      " 17  Value of Care Display Name  18500 non-null  object \n",
      " 18  Value of Care Category      18500 non-null  object \n",
      " 19  Value of Care Footnote      8510 non-null   float64\n",
      " 20  Start Date                  18500 non-null  object \n",
      " 21  End Date                    18500 non-null  object \n",
      "dtypes: float64(1), int64(2), object(19)\n",
      "memory usage: 3.1+ MB\n"
     ]
    }
   ],
   "source": [
    "pv_care_hos.info()"
   ]
  },
  {
   "cell_type": "code",
   "execution_count": 7,
   "metadata": {},
   "outputs": [
    {
     "data": {
      "text/plain": [
       "Facility ID                      0\n",
       "Facility Name                    0\n",
       "Address                          0\n",
       "City/Town                        0\n",
       "State                            0\n",
       "ZIP Code                         0\n",
       "County/Parish                    0\n",
       "Telephone Number                 0\n",
       "Payment Measure ID               0\n",
       "Payment Measure Name             0\n",
       "Payment Category                 0\n",
       "Denominator                      0\n",
       "Payment                          0\n",
       "Lower Estimate                   0\n",
       "Higher Estimate                  0\n",
       "Payment Footnote              9888\n",
       "Value of Care Display ID         0\n",
       "Value of Care Display Name       0\n",
       "Value of Care Category           0\n",
       "Value of Care Footnote        9990\n",
       "Start Date                       0\n",
       "End Date                         0\n",
       "dtype: int64"
      ]
     },
     "execution_count": 7,
     "metadata": {},
     "output_type": "execute_result"
    }
   ],
   "source": [
    "pv_care_hos.isna().sum()"
   ]
  },
  {
   "cell_type": "code",
   "execution_count": 17,
   "metadata": {},
   "outputs": [
    {
     "data": {
      "text/plain": [
       "array(['28502', '20602', '22404', ..., '19087', '21538', '22031'],\n",
       "      dtype=object)"
      ]
     },
     "execution_count": 17,
     "metadata": {},
     "output_type": "execute_result"
    }
   ],
   "source": [
    "#to find unique values\n",
    "pv_care_hos.Payment.unique()\n"
   ]
  },
  {
   "cell_type": "code",
   "execution_count": 9,
   "metadata": {},
   "outputs": [],
   "source": [
    "#Payment\tLower Estimate\tHigher Estimate\n",
    "pv_care_hos['Payment'] = pv_care_hos['Payment'].str.replace('$', '').str.replace(',', '')\n",
    "pv_care_hos['Lower Estimate'] = pv_care_hos['Lower Estimate'].str.replace('$', '').str.replace(',', '')\n",
    "pv_care_hos['PaymHigher Estimateent'] = pv_care_hos['Higher Estimate'].str.replace('$', '').str.replace(',', '')\n",
    "\n",
    "# pv_care_hos['Payment'] = pv_care_hos['Payment'].astype(int)\n",
    "# pv_care_hos['Lower Estimate'] = pv_care_hos['Lower Estimate'].astype(int)\n",
    "# pv_care_hos['Higher Estimate'] = pv_care_hos['Higher Estimate'].astype(int)"
   ]
  },
  {
   "cell_type": "code",
   "execution_count": 24,
   "metadata": {},
   "outputs": [
    {
     "data": {
      "text/plain": [
       "0        28502\n",
       "1        20602\n",
       "2        22404\n",
       "3        22819\n",
       "4        26561\n",
       "         ...  \n",
       "18495      NaN\n",
       "18496      NaN\n",
       "18497      NaN\n",
       "18498    19848\n",
       "18499    22031\n",
       "Name: Payment, Length: 18500, dtype: object"
      ]
     },
     "execution_count": 24,
     "metadata": {},
     "output_type": "execute_result"
    }
   ],
   "source": [
    "pv_care_hos['Payment'].replace('Not Available',np.nan)"
   ]
  },
  {
   "cell_type": "code",
   "execution_count": 25,
   "metadata": {},
   "outputs": [
    {
     "data": {
      "text/plain": [
       "0             28502\n",
       "1             20602\n",
       "2             22404\n",
       "3             22819\n",
       "4             26561\n",
       "5             18056\n",
       "6             20284\n",
       "7             17498\n",
       "8             31366\n",
       "9             19466\n",
       "10            21743\n",
       "11            21796\n",
       "12    Not Available\n",
       "13            19572\n",
       "14            19649\n",
       "15            21221\n",
       "16    Not Available\n",
       "17    Not Available\n",
       "18            20760\n",
       "19    Not Available\n",
       "Name: Payment, dtype: object"
      ]
     },
     "execution_count": 25,
     "metadata": {},
     "output_type": "execute_result"
    }
   ],
   "source": [
    "pv_care_hos['Payment'].head(20)"
   ]
  },
  {
   "cell_type": "code",
   "execution_count": 13,
   "metadata": {},
   "outputs": [
    {
     "data": {
      "text/plain": [
       "0    28502\n",
       "1    20602\n",
       "2    22404\n",
       "3    22819\n",
       "4    26561\n",
       "Name: Payment, dtype: object"
      ]
     },
     "execution_count": 13,
     "metadata": {},
     "output_type": "execute_result"
    }
   ],
   "source": [
    "#checking $ and ',' are removed but still Payment\tLower Estimate\tHigher Estimate in object type\n",
    "pv_care_hos['Payment'].head()"
   ]
  },
  {
   "cell_type": "code",
   "execution_count": 14,
   "metadata": {},
   "outputs": [
    {
     "ename": "ValueError",
     "evalue": "Unable to parse string \"Not Available\" at position 12",
     "output_type": "error",
     "traceback": [
      "\u001b[0;31m---------------------------------------------------------------------------\u001b[0m",
      "\u001b[0;31mValueError\u001b[0m                                Traceback (most recent call last)",
      "File \u001b[0;32mlib.pyx:2391\u001b[0m, in \u001b[0;36mpandas._libs.lib.maybe_convert_numeric\u001b[0;34m()\u001b[0m\n",
      "\u001b[0;31mValueError\u001b[0m: Unable to parse string \"Not Available\"",
      "\nDuring handling of the above exception, another exception occurred:\n",
      "\u001b[0;31mValueError\u001b[0m                                Traceback (most recent call last)",
      "Cell \u001b[0;32mIn[14], line 2\u001b[0m\n\u001b[1;32m      1\u001b[0m \u001b[38;5;66;03m#Payment\tLower Estimate\tHigher Estimate\u001b[39;00m\n\u001b[0;32m----> 2\u001b[0m \u001b[43mpd\u001b[49m\u001b[38;5;241;43m.\u001b[39;49m\u001b[43mto_numeric\u001b[49m\u001b[43m(\u001b[49m\u001b[43mpv_care_hos\u001b[49m\u001b[43m[\u001b[49m\u001b[38;5;124;43m'\u001b[39;49m\u001b[38;5;124;43mPayment\u001b[39;49m\u001b[38;5;124;43m'\u001b[39;49m\u001b[43m]\u001b[49m\u001b[43m,\u001b[49m\u001b[43m \u001b[49m\u001b[43mdowncast\u001b[49m\u001b[38;5;241;43m=\u001b[39;49m\u001b[38;5;124;43m\"\u001b[39;49m\u001b[38;5;124;43minteger\u001b[39;49m\u001b[38;5;124;43m\"\u001b[39;49m\u001b[43m)\u001b[49m\n",
      "File \u001b[0;32m~/.local/lib/python3.12/site-packages/pandas/core/tools/numeric.py:232\u001b[0m, in \u001b[0;36mto_numeric\u001b[0;34m(arg, errors, downcast, dtype_backend)\u001b[0m\n\u001b[1;32m    230\u001b[0m coerce_numeric \u001b[38;5;241m=\u001b[39m errors \u001b[38;5;129;01mnot\u001b[39;00m \u001b[38;5;129;01min\u001b[39;00m (\u001b[38;5;124m\"\u001b[39m\u001b[38;5;124mignore\u001b[39m\u001b[38;5;124m\"\u001b[39m, \u001b[38;5;124m\"\u001b[39m\u001b[38;5;124mraise\u001b[39m\u001b[38;5;124m\"\u001b[39m)\n\u001b[1;32m    231\u001b[0m \u001b[38;5;28;01mtry\u001b[39;00m:\n\u001b[0;32m--> 232\u001b[0m     values, new_mask \u001b[38;5;241m=\u001b[39m \u001b[43mlib\u001b[49m\u001b[38;5;241;43m.\u001b[39;49m\u001b[43mmaybe_convert_numeric\u001b[49m\u001b[43m(\u001b[49m\u001b[43m  \u001b[49m\u001b[38;5;66;43;03m# type: ignore[call-overload]\u001b[39;49;00m\n\u001b[1;32m    233\u001b[0m \u001b[43m        \u001b[49m\u001b[43mvalues\u001b[49m\u001b[43m,\u001b[49m\n\u001b[1;32m    234\u001b[0m \u001b[43m        \u001b[49m\u001b[38;5;28;43mset\u001b[39;49m\u001b[43m(\u001b[49m\u001b[43m)\u001b[49m\u001b[43m,\u001b[49m\n\u001b[1;32m    235\u001b[0m \u001b[43m        \u001b[49m\u001b[43mcoerce_numeric\u001b[49m\u001b[38;5;241;43m=\u001b[39;49m\u001b[43mcoerce_numeric\u001b[49m\u001b[43m,\u001b[49m\n\u001b[1;32m    236\u001b[0m \u001b[43m        \u001b[49m\u001b[43mconvert_to_masked_nullable\u001b[49m\u001b[38;5;241;43m=\u001b[39;49m\u001b[43mdtype_backend\u001b[49m\u001b[43m \u001b[49m\u001b[38;5;129;43;01mis\u001b[39;49;00m\u001b[43m \u001b[49m\u001b[38;5;129;43;01mnot\u001b[39;49;00m\u001b[43m \u001b[49m\u001b[43mlib\u001b[49m\u001b[38;5;241;43m.\u001b[39;49m\u001b[43mno_default\u001b[49m\n\u001b[1;32m    237\u001b[0m \u001b[43m        \u001b[49m\u001b[38;5;129;43;01mor\u001b[39;49;00m\u001b[43m \u001b[49m\u001b[38;5;28;43misinstance\u001b[39;49m\u001b[43m(\u001b[49m\u001b[43mvalues_dtype\u001b[49m\u001b[43m,\u001b[49m\u001b[43m \u001b[49m\u001b[43mStringDtype\u001b[49m\u001b[43m)\u001b[49m\n\u001b[1;32m    238\u001b[0m \u001b[43m        \u001b[49m\u001b[38;5;129;43;01mand\u001b[39;49;00m\u001b[43m \u001b[49m\u001b[38;5;129;43;01mnot\u001b[39;49;00m\u001b[43m \u001b[49m\u001b[43mvalues_dtype\u001b[49m\u001b[38;5;241;43m.\u001b[39;49m\u001b[43mstorage\u001b[49m\u001b[43m \u001b[49m\u001b[38;5;241;43m==\u001b[39;49m\u001b[43m \u001b[49m\u001b[38;5;124;43m\"\u001b[39;49m\u001b[38;5;124;43mpyarrow_numpy\u001b[39;49m\u001b[38;5;124;43m\"\u001b[39;49m\u001b[43m,\u001b[49m\n\u001b[1;32m    239\u001b[0m \u001b[43m    \u001b[49m\u001b[43m)\u001b[49m\n\u001b[1;32m    240\u001b[0m \u001b[38;5;28;01mexcept\u001b[39;00m (\u001b[38;5;167;01mValueError\u001b[39;00m, \u001b[38;5;167;01mTypeError\u001b[39;00m):\n\u001b[1;32m    241\u001b[0m     \u001b[38;5;28;01mif\u001b[39;00m errors \u001b[38;5;241m==\u001b[39m \u001b[38;5;124m\"\u001b[39m\u001b[38;5;124mraise\u001b[39m\u001b[38;5;124m\"\u001b[39m:\n",
      "File \u001b[0;32mlib.pyx:2433\u001b[0m, in \u001b[0;36mpandas._libs.lib.maybe_convert_numeric\u001b[0;34m()\u001b[0m\n",
      "\u001b[0;31mValueError\u001b[0m: Unable to parse string \"Not Available\" at position 12"
     ]
    }
   ],
   "source": [
    "#Payment\tLower Estimate\tHigher Estimate\n",
    "pd.to_numeric(pv_care_hos['Payment'], downcast=\"integer\")"
   ]
  },
  {
   "cell_type": "code",
   "execution_count": null,
   "metadata": {},
   "outputs": [],
<<<<<<< HEAD
   "source": [
    "import dtale"
   ]
  },
  {
   "cell_type": "code",
   "execution_count": null,
   "metadata": {},
   "outputs": [],
=======
>>>>>>> 3cdf9c8bb519f1f52262718e1e424e320b186f4b
   "source": []
  }
 ],
 "metadata": {
  "kernelspec": {
   "display_name": "Python 3",
   "language": "python",
   "name": "python3"
  },
  "language_info": {
   "codemirror_mode": {
    "name": "ipython",
    "version": 3
   },
   "file_extension": ".py",
   "mimetype": "text/x-python",
   "name": "python",
   "nbconvert_exporter": "python",
   "pygments_lexer": "ipython3",
   "version": "3.12.1"
  }
 },
 "nbformat": 4,
 "nbformat_minor": 2
}
